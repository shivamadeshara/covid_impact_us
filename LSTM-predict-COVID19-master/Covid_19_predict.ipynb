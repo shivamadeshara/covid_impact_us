{
  "nbformat": 4,
  "nbformat_minor": 0,
  "metadata": {
    "colab": {
      "name": "Covid-19 predict.ipynb",
      "provenance": [],
      "collapsed_sections": []
    },
    "kernelspec": {
      "name": "python3",
      "display_name": "Python 3"
    },
    "accelerator": "GPU"
  },
  "cells": [
    {
      "cell_type": "code",
      "metadata": {
        "id": "nOjlkaDRcKKi",
        "colab_type": "code",
        "colab": {}
      },
      "source": [
        "%tensorflow_version 2.x"
      ],
      "execution_count": 0,
      "outputs": []
    },
    {
      "cell_type": "code",
      "metadata": {
        "id": "3YqxKLqhclg3",
        "colab_type": "code",
        "outputId": "4c4ae2cc-ccc9-40ef-a448-d7cc0e21b1d7",
        "colab": {
          "base_uri": "https://localhost:8080/",
          "height": 34
        }
      },
      "source": [
        "import tensorflow as tf\n",
        "device_name = tf.test.gpu_device_name()\n",
        "if device_name != '/device:GPU:0':\n",
        "  raise SystemError('GPU device not found')\n",
        "print('Found GPU at: {}'.format(device_name))"
      ],
      "execution_count": 2,
      "outputs": [
        {
          "output_type": "stream",
          "text": [
            "Found GPU at: /device:GPU:0\n"
          ],
          "name": "stdout"
        }
      ]
    },
    {
      "cell_type": "code",
      "metadata": {
        "id": "2VlIbbRbcrB1",
        "colab_type": "code",
        "colab": {}
      },
      "source": [
        "from __future__ import absolute_import, division, print_function, unicode_literals\n",
        "import tensorflow as tf\n",
        "\n",
        "import matplotlib as mpl\n",
        "import matplotlib.pyplot as plt\n",
        "import numpy as np\n",
        "import os\n",
        "import pandas as pd\n",
        "mpl.rcParams['figure.figsize'] = (8, 6)\n",
        "mpl.rcParams['axes.grid'] = False"
      ],
      "execution_count": 0,
      "outputs": []
    },
    {
      "cell_type": "code",
      "metadata": {
        "id": "M-9rI1kA0koa",
        "colab_type": "code",
        "colab": {}
      },
      "source": [
        "#/content/casePerMillion.csv blob:https://ourworldindata.org/45900ead-b8a1-457e-bd44-1a515302c033"
      ],
      "execution_count": 0,
      "outputs": []
    },
    {
      "cell_type": "code",
      "metadata": {
        "id": "G1P3ZmTlc4J0",
        "colab_type": "code",
        "outputId": "434754f9-3d09-41bb-b817-914f7240e7f4",
        "colab": {
          "base_uri": "https://localhost:8080/",
          "height": 204
        }
      },
      "source": [
        "!wget --show-progress --continue -O /content/covid.csv https://opendata.ecdc.europa.eu/covid19/casedistribution/csv"
      ],
      "execution_count": 5,
      "outputs": [
        {
          "output_type": "stream",
          "text": [
            "--2020-04-01 15:24:01--  https://opendata.ecdc.europa.eu/covid19/casedistribution/csv\n",
            "Resolving opendata.ecdc.europa.eu (opendata.ecdc.europa.eu)... 212.181.0.63\n",
            "Connecting to opendata.ecdc.europa.eu (opendata.ecdc.europa.eu)|212.181.0.63|:443... connected.\n",
            "HTTP request sent, awaiting response... 301 Moved Permanently\n",
            "Location: https://opendata.ecdc.europa.eu/covid19/casedistribution/csv/ [following]\n",
            "--2020-04-01 15:24:02--  https://opendata.ecdc.europa.eu/covid19/casedistribution/csv/\n",
            "Reusing existing connection to opendata.ecdc.europa.eu:443.\n",
            "HTTP request sent, awaiting response... 416 Requested Range Not Satisfiable\n",
            "\n",
            "    The file is already fully retrieved; nothing to do.\n",
            "\n"
          ],
          "name": "stdout"
        }
      ]
    },
    {
      "cell_type": "code",
      "metadata": {
        "id": "4lV9LCBTdZLi",
        "colab_type": "code",
        "outputId": "aaecec50-2d33-46c7-836f-ba36b0410f71",
        "colab": {
          "base_uri": "https://localhost:8080/",
          "height": 204
        }
      },
      "source": [
        "df = pd.read_csv('/content/covid.csv')#, encoding='latin-1')\n",
        "df.head()"
      ],
      "execution_count": 6,
      "outputs": [
        {
          "output_type": "execute_result",
          "data": {
            "text/html": [
              "<div>\n",
              "<style scoped>\n",
              "    .dataframe tbody tr th:only-of-type {\n",
              "        vertical-align: middle;\n",
              "    }\n",
              "\n",
              "    .dataframe tbody tr th {\n",
              "        vertical-align: top;\n",
              "    }\n",
              "\n",
              "    .dataframe thead th {\n",
              "        text-align: right;\n",
              "    }\n",
              "</style>\n",
              "<table border=\"1\" class=\"dataframe\">\n",
              "  <thead>\n",
              "    <tr style=\"text-align: right;\">\n",
              "      <th></th>\n",
              "      <th>dateRep</th>\n",
              "      <th>day</th>\n",
              "      <th>month</th>\n",
              "      <th>year</th>\n",
              "      <th>cases</th>\n",
              "      <th>deaths</th>\n",
              "      <th>countriesAndTerritories</th>\n",
              "      <th>geoId</th>\n",
              "      <th>countryterritoryCode</th>\n",
              "      <th>popData2018</th>\n",
              "    </tr>\n",
              "  </thead>\n",
              "  <tbody>\n",
              "    <tr>\n",
              "      <th>0</th>\n",
              "      <td>01/04/2020</td>\n",
              "      <td>1</td>\n",
              "      <td>4</td>\n",
              "      <td>2020</td>\n",
              "      <td>25</td>\n",
              "      <td>0</td>\n",
              "      <td>Afghanistan</td>\n",
              "      <td>AF</td>\n",
              "      <td>AFG</td>\n",
              "      <td>37172386.0</td>\n",
              "    </tr>\n",
              "    <tr>\n",
              "      <th>1</th>\n",
              "      <td>31/03/2020</td>\n",
              "      <td>31</td>\n",
              "      <td>3</td>\n",
              "      <td>2020</td>\n",
              "      <td>27</td>\n",
              "      <td>0</td>\n",
              "      <td>Afghanistan</td>\n",
              "      <td>AF</td>\n",
              "      <td>AFG</td>\n",
              "      <td>37172386.0</td>\n",
              "    </tr>\n",
              "    <tr>\n",
              "      <th>2</th>\n",
              "      <td>30/03/2020</td>\n",
              "      <td>30</td>\n",
              "      <td>3</td>\n",
              "      <td>2020</td>\n",
              "      <td>8</td>\n",
              "      <td>1</td>\n",
              "      <td>Afghanistan</td>\n",
              "      <td>AF</td>\n",
              "      <td>AFG</td>\n",
              "      <td>37172386.0</td>\n",
              "    </tr>\n",
              "    <tr>\n",
              "      <th>3</th>\n",
              "      <td>29/03/2020</td>\n",
              "      <td>29</td>\n",
              "      <td>3</td>\n",
              "      <td>2020</td>\n",
              "      <td>15</td>\n",
              "      <td>1</td>\n",
              "      <td>Afghanistan</td>\n",
              "      <td>AF</td>\n",
              "      <td>AFG</td>\n",
              "      <td>37172386.0</td>\n",
              "    </tr>\n",
              "    <tr>\n",
              "      <th>4</th>\n",
              "      <td>28/03/2020</td>\n",
              "      <td>28</td>\n",
              "      <td>3</td>\n",
              "      <td>2020</td>\n",
              "      <td>16</td>\n",
              "      <td>1</td>\n",
              "      <td>Afghanistan</td>\n",
              "      <td>AF</td>\n",
              "      <td>AFG</td>\n",
              "      <td>37172386.0</td>\n",
              "    </tr>\n",
              "  </tbody>\n",
              "</table>\n",
              "</div>"
            ],
            "text/plain": [
              "      dateRep  day  month  ...  geoId  countryterritoryCode  popData2018\n",
              "0  01/04/2020    1      4  ...     AF                   AFG   37172386.0\n",
              "1  31/03/2020   31      3  ...     AF                   AFG   37172386.0\n",
              "2  30/03/2020   30      3  ...     AF                   AFG   37172386.0\n",
              "3  29/03/2020   29      3  ...     AF                   AFG   37172386.0\n",
              "4  28/03/2020   28      3  ...     AF                   AFG   37172386.0\n",
              "\n",
              "[5 rows x 10 columns]"
            ]
          },
          "metadata": {
            "tags": []
          },
          "execution_count": 6
        }
      ]
    },
    {
      "cell_type": "code",
      "metadata": {
        "id": "TQ7nl4MfhARZ",
        "colab_type": "code",
        "outputId": "201544da-2c55-4018-ae5d-cb406ec62af8",
        "colab": {
          "base_uri": "https://localhost:8080/",
          "height": 204
        }
      },
      "source": [
        "feature_considered = ['dateRep', 'cases', 'deaths', 'countryterritoryCode']\n",
        "df = df[feature_considered]\n",
        "df.head()"
      ],
      "execution_count": 7,
      "outputs": [
        {
          "output_type": "execute_result",
          "data": {
            "text/html": [
              "<div>\n",
              "<style scoped>\n",
              "    .dataframe tbody tr th:only-of-type {\n",
              "        vertical-align: middle;\n",
              "    }\n",
              "\n",
              "    .dataframe tbody tr th {\n",
              "        vertical-align: top;\n",
              "    }\n",
              "\n",
              "    .dataframe thead th {\n",
              "        text-align: right;\n",
              "    }\n",
              "</style>\n",
              "<table border=\"1\" class=\"dataframe\">\n",
              "  <thead>\n",
              "    <tr style=\"text-align: right;\">\n",
              "      <th></th>\n",
              "      <th>dateRep</th>\n",
              "      <th>cases</th>\n",
              "      <th>deaths</th>\n",
              "      <th>countryterritoryCode</th>\n",
              "    </tr>\n",
              "  </thead>\n",
              "  <tbody>\n",
              "    <tr>\n",
              "      <th>0</th>\n",
              "      <td>01/04/2020</td>\n",
              "      <td>25</td>\n",
              "      <td>0</td>\n",
              "      <td>AFG</td>\n",
              "    </tr>\n",
              "    <tr>\n",
              "      <th>1</th>\n",
              "      <td>31/03/2020</td>\n",
              "      <td>27</td>\n",
              "      <td>0</td>\n",
              "      <td>AFG</td>\n",
              "    </tr>\n",
              "    <tr>\n",
              "      <th>2</th>\n",
              "      <td>30/03/2020</td>\n",
              "      <td>8</td>\n",
              "      <td>1</td>\n",
              "      <td>AFG</td>\n",
              "    </tr>\n",
              "    <tr>\n",
              "      <th>3</th>\n",
              "      <td>29/03/2020</td>\n",
              "      <td>15</td>\n",
              "      <td>1</td>\n",
              "      <td>AFG</td>\n",
              "    </tr>\n",
              "    <tr>\n",
              "      <th>4</th>\n",
              "      <td>28/03/2020</td>\n",
              "      <td>16</td>\n",
              "      <td>1</td>\n",
              "      <td>AFG</td>\n",
              "    </tr>\n",
              "  </tbody>\n",
              "</table>\n",
              "</div>"
            ],
            "text/plain": [
              "      dateRep  cases  deaths countryterritoryCode\n",
              "0  01/04/2020     25       0                  AFG\n",
              "1  31/03/2020     27       0                  AFG\n",
              "2  30/03/2020      8       1                  AFG\n",
              "3  29/03/2020     15       1                  AFG\n",
              "4  28/03/2020     16       1                  AFG"
            ]
          },
          "metadata": {
            "tags": []
          },
          "execution_count": 7
        }
      ]
    },
    {
      "cell_type": "code",
      "metadata": {
        "id": "LMzU0lagm07S",
        "colab_type": "code",
        "outputId": "4c1fd9dd-fbca-4ce4-a738-1d28c69d953c",
        "colab": {
          "base_uri": "https://localhost:8080/",
          "height": 204
        }
      },
      "source": [
        "casePerMillion = pd.read_csv('/content/casePerMillion.csv')\n",
        "feature_considered = ['Date', 'Code', 'Total confirmed cases of COVID-19 per million people (cases per million)']\n",
        "casePerMillion = casePerMillion[feature_considered]\n",
        "casePerMillion.head()"
      ],
      "execution_count": 8,
      "outputs": [
        {
          "output_type": "execute_result",
          "data": {
            "text/html": [
              "<div>\n",
              "<style scoped>\n",
              "    .dataframe tbody tr th:only-of-type {\n",
              "        vertical-align: middle;\n",
              "    }\n",
              "\n",
              "    .dataframe tbody tr th {\n",
              "        vertical-align: top;\n",
              "    }\n",
              "\n",
              "    .dataframe thead th {\n",
              "        text-align: right;\n",
              "    }\n",
              "</style>\n",
              "<table border=\"1\" class=\"dataframe\">\n",
              "  <thead>\n",
              "    <tr style=\"text-align: right;\">\n",
              "      <th></th>\n",
              "      <th>Date</th>\n",
              "      <th>Code</th>\n",
              "      <th>Total confirmed cases of COVID-19 per million people (cases per million)</th>\n",
              "    </tr>\n",
              "  </thead>\n",
              "  <tbody>\n",
              "    <tr>\n",
              "      <th>0</th>\n",
              "      <td>Dec 31, 2019</td>\n",
              "      <td>AFG</td>\n",
              "      <td>0.0</td>\n",
              "    </tr>\n",
              "    <tr>\n",
              "      <th>1</th>\n",
              "      <td>Jan 1, 2020</td>\n",
              "      <td>AFG</td>\n",
              "      <td>0.0</td>\n",
              "    </tr>\n",
              "    <tr>\n",
              "      <th>2</th>\n",
              "      <td>Jan 2, 2020</td>\n",
              "      <td>AFG</td>\n",
              "      <td>0.0</td>\n",
              "    </tr>\n",
              "    <tr>\n",
              "      <th>3</th>\n",
              "      <td>Jan 3, 2020</td>\n",
              "      <td>AFG</td>\n",
              "      <td>0.0</td>\n",
              "    </tr>\n",
              "    <tr>\n",
              "      <th>4</th>\n",
              "      <td>Jan 4, 2020</td>\n",
              "      <td>AFG</td>\n",
              "      <td>0.0</td>\n",
              "    </tr>\n",
              "  </tbody>\n",
              "</table>\n",
              "</div>"
            ],
            "text/plain": [
              "           Date  ... Total confirmed cases of COVID-19 per million people (cases per million)\n",
              "0  Dec 31, 2019  ...                                                0.0                      \n",
              "1   Jan 1, 2020  ...                                                0.0                      \n",
              "2   Jan 2, 2020  ...                                                0.0                      \n",
              "3   Jan 3, 2020  ...                                                0.0                      \n",
              "4   Jan 4, 2020  ...                                                0.0                      \n",
              "\n",
              "[5 rows x 3 columns]"
            ]
          },
          "metadata": {
            "tags": []
          },
          "execution_count": 8
        }
      ]
    },
    {
      "cell_type": "code",
      "metadata": {
        "id": "-KtkdbUUec2i",
        "colab_type": "code",
        "colab": {}
      },
      "source": [
        "def retriveDataByCountry(country_code):\n",
        "  country_data = df.loc[df['countryterritoryCode'] == country_code]\n",
        "  country_cpm = casePerMillion.loc[casePerMillion['Code'] == country_code]\n",
        "  country_data.index = pd.to_datetime(country_data.dateRep, dayfirst=True)\n",
        "  country_cpm.index = pd.to_datetime(country_cpm.Date)\n",
        "  country_data = pd.concat([country_data, country_cpm], axis=1).reindex(country_data.index).dropna()\n",
        "  country_data = country_data[['cases','Total confirmed cases of COVID-19 per million people (cases per million)']]\n",
        "  \n",
        "  return country_data"
      ],
      "execution_count": 0,
      "outputs": []
    },
    {
      "cell_type": "code",
      "metadata": {
        "id": "FuGLbbWZvYRO",
        "colab_type": "code",
        "outputId": "0ab7e9fe-9979-4d80-92da-2256fefa47d1",
        "colab": {
          "base_uri": "https://localhost:8080/",
          "height": 34
        }
      },
      "source": [
        "canada_data = retriveDataByCountry('CAN').sort_index(ascending=True)\n",
        "canada_data.shape"
      ],
      "execution_count": 10,
      "outputs": [
        {
          "output_type": "execute_result",
          "data": {
            "text/plain": [
              "(93, 2)"
            ]
          },
          "metadata": {
            "tags": []
          },
          "execution_count": 10
        }
      ]
    },
    {
      "cell_type": "code",
      "metadata": {
        "colab_type": "code",
        "id": "-Y1ED-rW3EpU",
        "colab": {}
      },
      "source": [
        "canada_data"
      ],
      "execution_count": 0,
      "outputs": []
    },
    {
      "cell_type": "code",
      "metadata": {
        "id": "ScvMFUrm2W-c",
        "colab_type": "code",
        "colab": {}
      },
      "source": [
        "pd.options.display.max_rows = None\n",
        "Italy_data = retriveDataByCountry('ITA').sort_index(ascending=True)"
      ],
      "execution_count": 0,
      "outputs": []
    },
    {
      "cell_type": "markdown",
      "metadata": {
        "id": "2FvP9rLl15xb",
        "colab_type": "text"
      },
      "source": [
        ""
      ]
    },
    {
      "cell_type": "code",
      "metadata": {
        "id": "0IAtsQ9Q0nRR",
        "colab_type": "code",
        "colab": {}
      },
      "source": [
        "US_data = retriveDataByCountry('USA').sort_index(ascending=True)"
      ],
      "execution_count": 0,
      "outputs": []
    },
    {
      "cell_type": "code",
      "metadata": {
        "id": "1HvE1y88L5Qr",
        "colab_type": "code",
        "colab": {}
      },
      "source": [
        "China_data = retriveDataByCountry('CHN').sort_index(ascending=True)"
      ],
      "execution_count": 0,
      "outputs": []
    },
    {
      "cell_type": "code",
      "metadata": {
        "id": "HPZkObKq3FvU",
        "colab_type": "code",
        "colab": {}
      },
      "source": [
        "def shape_data(dataset, target, start_index, end_index, history_size, target_size, single_step=False):\n",
        "  data = []\n",
        "  labels = []\n",
        "\n",
        "  if start_index is None:\n",
        "    start_index = len(dataset) - target_size\n",
        "  end_of_start_index = start_index + history_size\n",
        "  if end_index is None:\n",
        "    end_index = len(dataset) - target_size\n",
        "  \n",
        "  print(end_of_start_index)\n",
        "  print(end_index)\n",
        "  for i in range(end_of_start_index, end_index):\n",
        "    indices = range(i-history_size, i)\n",
        "    data.append(dataset[indices])\n",
        "\n",
        "    if single_step:\n",
        "      labels.append(target[i+target_size])\n",
        "    else:#某个时间段\n",
        "      labels.append(target[i:i+target_size])\n",
        "\n",
        "  return np.array(data), np.array(labels)"
      ],
      "execution_count": 0,
      "outputs": []
    },
    {
      "cell_type": "code",
      "metadata": {
        "id": "sbUN2kTBd7E4",
        "colab_type": "code",
        "colab": {}
      },
      "source": [
        "alldataset = np.concatenate([canada_data.values[:round(canada_data.shape[0] * 0.3)], Italy_data, China_data.values, US_data])\n",
        "data_mean = alldataset.mean(axis=0)\n",
        "data_std = alldataset.std(axis=0)"
      ],
      "execution_count": 0,
      "outputs": []
    },
    {
      "cell_type": "code",
      "metadata": {
        "id": "MC0_6kjuMEki",
        "colab_type": "code",
        "colab": {}
      },
      "source": [
        "past_history = 5\n",
        "furture_target = 2\n",
        "\n",
        "def split_data(data, percentage=None, single_step=True):\n",
        "  if percentage is None:\n",
        "    TRAIN_SPLIT = None\n",
        "  else:\n",
        "    TRAIN_SPLIT = round(data.shape[0] * percentage)\n",
        "  dataset = data.values\n",
        "  dataset = (dataset - data_mean) / data_std\n",
        "\n",
        "  data_x_train, data_y_train = shape_data(dataset=dataset, target=dataset[:,0],\n",
        "                                          start_index=0, end_index=TRAIN_SPLIT,\n",
        "                                          history_size=past_history, target_size=furture_target,\n",
        "                                          single_step=single_step )\n",
        "  data_x_test, data_y_test = shape_data(dataset=dataset, target=dataset[:,0],\n",
        "                                        start_index=TRAIN_SPLIT, end_index=None, \n",
        "                                        history_size=past_history, target_size=furture_target,\n",
        "                                        single_step=single_step)\n",
        "  return data_x_train, data_y_train, data_x_test, data_y_test"
      ],
      "execution_count": 0,
      "outputs": []
    },
    {
      "cell_type": "code",
      "metadata": {
        "id": "uqoQeif_4nwW",
        "colab_type": "code",
        "outputId": "a6e7f2ee-b861-47ff-ad70-fefe3d364f80",
        "colab": {
          "base_uri": "https://localhost:8080/",
          "height": 85
        }
      },
      "source": [
        "canada_x_train, canada_y_train, canada_x_test, canada_y_test = split_data(canada_data, 0.3, single_step=False)"
      ],
      "execution_count": 18,
      "outputs": [
        {
          "output_type": "stream",
          "text": [
            "5\n",
            "28\n",
            "33\n",
            "91\n"
          ],
          "name": "stdout"
        }
      ]
    },
    {
      "cell_type": "code",
      "metadata": {
        "id": "UXL1MkbeMY7Q",
        "colab_type": "code",
        "colab": {
          "base_uri": "https://localhost:8080/",
          "height": 85
        },
        "outputId": "46c0921e-ea87-47f7-a71a-7fcc09c51921"
      },
      "source": [
        "italy_x_train, italy_y_train, italy_x_test, italy_y_test = split_data(Italy_data, single_step=False)"
      ],
      "execution_count": 19,
      "outputs": [
        {
          "output_type": "stream",
          "text": [
            "5\n",
            "91\n",
            "96\n",
            "91\n"
          ],
          "name": "stdout"
        }
      ]
    },
    {
      "cell_type": "code",
      "metadata": {
        "id": "faoqtq5sR43D",
        "colab_type": "code",
        "outputId": "1c3e324f-093e-4a2f-b1e0-1241c8661935",
        "colab": {
          "base_uri": "https://localhost:8080/",
          "height": 85
        }
      },
      "source": [
        "china_x_train, china_y_train, china_x_test, china_y_test = split_data(China_data, single_step=False)"
      ],
      "execution_count": 20,
      "outputs": [
        {
          "output_type": "stream",
          "text": [
            "5\n",
            "91\n",
            "96\n",
            "91\n"
          ],
          "name": "stdout"
        }
      ]
    },
    {
      "cell_type": "code",
      "metadata": {
        "id": "3oKhSt0Q00od",
        "colab_type": "code",
        "colab": {
          "base_uri": "https://localhost:8080/",
          "height": 85
        },
        "outputId": "44b5343d-2aa2-4d51-c086-289693a143b7"
      },
      "source": [
        "us_x_train, us_y_train, us_x_test, us_y_test = split_data(US_data, single_step=False)"
      ],
      "execution_count": 21,
      "outputs": [
        {
          "output_type": "stream",
          "text": [
            "5\n",
            "91\n",
            "96\n",
            "91\n"
          ],
          "name": "stdout"
        }
      ]
    },
    {
      "cell_type": "code",
      "metadata": {
        "id": "uqb0QO-QSHaj",
        "colab_type": "code",
        "colab": {}
      },
      "source": [
        "x_train = np.concatenate((canada_x_train, china_x_train, italy_x_train), axis=0) #, us_x_train\n",
        "y_train = np.concatenate((canada_y_train, china_y_train, italy_y_train), axis=0) # , us_y_train\n",
        "x_test = canada_x_test\n",
        "y_test = canada_y_test"
      ],
      "execution_count": 0,
      "outputs": []
    },
    {
      "cell_type": "code",
      "metadata": {
        "id": "dEUJDXjaVD-i",
        "colab_type": "code",
        "colab": {}
      },
      "source": [
        "x_test"
      ],
      "execution_count": 0,
      "outputs": []
    },
    {
      "cell_type": "code",
      "metadata": {
        "id": "C0OW-vwNSaNL",
        "colab_type": "code",
        "outputId": "77776d94-22f8-4ec8-fa6d-f8e3aef56b34",
        "colab": {
          "base_uri": "https://localhost:8080/",
          "height": 34
        }
      },
      "source": [
        "x_train.shape"
      ],
      "execution_count": 24,
      "outputs": [
        {
          "output_type": "execute_result",
          "data": {
            "text/plain": [
              "(195, 5, 2)"
            ]
          },
          "metadata": {
            "tags": []
          },
          "execution_count": 24
        }
      ]
    },
    {
      "cell_type": "code",
      "metadata": {
        "id": "5cG7K3gC7TpC",
        "colab_type": "code",
        "colab": {}
      },
      "source": [
        "BATCH_SIZE = 5\n",
        "\n",
        "SHUFFLE_BUFFER_SIZE = 10000\n",
        "\n",
        "train_data = tf.data.Dataset.from_tensor_slices((x_train, y_train))\n",
        "train_data = train_data.cache().shuffle(SHUFFLE_BUFFER_SIZE).batch(BATCH_SIZE).repeat()\n",
        "\n",
        "test_data = tf.data.Dataset.from_tensor_slices((x_test, y_test))\n",
        "test_data = test_data.shuffle(SHUFFLE_BUFFER_SIZE).batch(BATCH_SIZE)\n",
        "list(test_data.as_numpy_iterator())"
      ],
      "execution_count": 0,
      "outputs": []
    },
    {
      "cell_type": "code",
      "metadata": {
        "id": "tI_JimQxmME3",
        "colab_type": "code",
        "colab": {}
      },
      "source": [
        "test_data = test_data.repeat()"
      ],
      "execution_count": 0,
      "outputs": []
    },
    {
      "cell_type": "code",
      "metadata": {
        "id": "hT3qQcgn7p4t",
        "colab_type": "code",
        "outputId": "5168b4d1-55e6-42a7-a146-d0222d00b5cd",
        "colab": {
          "base_uri": "https://localhost:8080/",
          "height": 34
        }
      },
      "source": [
        "train_data"
      ],
      "execution_count": 27,
      "outputs": [
        {
          "output_type": "execute_result",
          "data": {
            "text/plain": [
              "<RepeatDataset shapes: ((None, 5, 2), (None, 2)), types: (tf.float64, tf.float64)>"
            ]
          },
          "metadata": {
            "tags": []
          },
          "execution_count": 27
        }
      ]
    },
    {
      "cell_type": "code",
      "metadata": {
        "id": "iT78ucIa7v37",
        "colab_type": "code",
        "outputId": "a8b78e25-4b6f-4c63-d3d2-825985a9a6c1",
        "colab": {
          "base_uri": "https://localhost:8080/",
          "height": 360
        }
      },
      "source": [
        "with tf.device('/device:GPU:0'):\n",
        "  multi_step_model = tf.keras.models.Sequential()\n",
        "  multi_step_model.add(tf.keras.layers.LSTM(32, return_sequences=True, input_shape=x_train.shape[-2:]))\n",
        "  multi_step_model.add(tf.keras.layers.Dropout(0.2))\n",
        "  multi_step_model.add(tf.keras.layers.LSTM(16, activation='relu'))\n",
        "  multi_step_model.add(tf.keras.layers.Dropout(0.2))\n",
        "  multi_step_model.add(tf.keras.layers.Dense(2))\n",
        "  \n",
        "  multi_step_model.compile(optimizer=tf.keras.optimizers.RMSprop(clipvalue=1.0), loss='mae')\n",
        "  multi_step_model.summary()"
      ],
      "execution_count": 28,
      "outputs": [
        {
          "output_type": "stream",
          "text": [
            "WARNING:tensorflow:Layer lstm_1 will not use cuDNN kernel since it doesn't meet the cuDNN kernel criteria. It will use generic GPU kernel as fallback when running on GPU\n",
            "Model: \"sequential\"\n",
            "_________________________________________________________________\n",
            "Layer (type)                 Output Shape              Param #   \n",
            "=================================================================\n",
            "lstm (LSTM)                  (None, 5, 32)             4480      \n",
            "_________________________________________________________________\n",
            "dropout (Dropout)            (None, 5, 32)             0         \n",
            "_________________________________________________________________\n",
            "lstm_1 (LSTM)                (None, 16)                3136      \n",
            "_________________________________________________________________\n",
            "dropout_1 (Dropout)          (None, 16)                0         \n",
            "_________________________________________________________________\n",
            "dense (Dense)                (None, 2)                 34        \n",
            "=================================================================\n",
            "Total params: 7,650\n",
            "Trainable params: 7,650\n",
            "Non-trainable params: 0\n",
            "_________________________________________________________________\n"
          ],
          "name": "stdout"
        }
      ]
    },
    {
      "cell_type": "code",
      "metadata": {
        "id": "mTnXQLrTpLSV",
        "colab_type": "code",
        "colab": {}
      },
      "source": [
        "es = tf.keras.callbacks.EarlyStopping(monitor='val_loss', mode='min', verbose=1)"
      ],
      "execution_count": 0,
      "outputs": []
    },
    {
      "cell_type": "code",
      "metadata": {
        "id": "5hOfSHl5-IbI",
        "colab_type": "code",
        "outputId": "3d7138da-07c3-4f94-d5dc-9ba4e39f7741",
        "colab": {
          "base_uri": "https://localhost:8080/",
          "height": 357
        }
      },
      "source": [
        "history = multi_step_model.fit(train_data, epochs=10,\n",
        "                               steps_per_epoch=200,\n",
        "                               validation_data=test_data,\n",
        "                               validation_steps=50)#,\n",
        "                               #callbacks=[es])"
      ],
      "execution_count": 30,
      "outputs": [
        {
          "output_type": "stream",
          "text": [
            "Epoch 1/10\n",
            "200/200 [==============================] - 5s 26ms/step - loss: 0.2028 - val_loss: 0.0535\n",
            "Epoch 2/10\n",
            "200/200 [==============================] - 4s 22ms/step - loss: 0.1595 - val_loss: 0.0300\n",
            "Epoch 3/10\n",
            "200/200 [==============================] - 4s 22ms/step - loss: 0.1487 - val_loss: 0.0302\n",
            "Epoch 4/10\n",
            "200/200 [==============================] - 5s 23ms/step - loss: 0.1467 - val_loss: 0.0228\n",
            "Epoch 5/10\n",
            "200/200 [==============================] - 4s 22ms/step - loss: 0.1321 - val_loss: 0.0197\n",
            "Epoch 6/10\n",
            "200/200 [==============================] - 4s 22ms/step - loss: 0.1340 - val_loss: 0.0320\n",
            "Epoch 7/10\n",
            "200/200 [==============================] - 5s 24ms/step - loss: 0.1240 - val_loss: 0.0180\n",
            "Epoch 8/10\n",
            "200/200 [==============================] - 5s 23ms/step - loss: 0.1238 - val_loss: 0.0287\n",
            "Epoch 9/10\n",
            "200/200 [==============================] - 5s 23ms/step - loss: 0.1199 - val_loss: 0.0346\n",
            "Epoch 10/10\n",
            "200/200 [==============================] - 5s 24ms/step - loss: 0.1139 - val_loss: 0.0241\n"
          ],
          "name": "stdout"
        }
      ]
    },
    {
      "cell_type": "code",
      "metadata": {
        "id": "icU7Wtpu-Zng",
        "colab_type": "code",
        "outputId": "a85d3ac5-3f4a-4a67-cb88-25370bce7ae9",
        "colab": {
          "base_uri": "https://localhost:8080/",
          "height": 390
        }
      },
      "source": [
        "#图表示随着epoch次数 loss 的变化趋势\n",
        "def plot_train_history(history, title):\n",
        "  loss = history.history['loss']\n",
        "  val_loss = history.history['val_loss']\n",
        "\n",
        "  epochs = range(len(loss))\n",
        "\n",
        "  plt.figure()\n",
        "\n",
        "  plt.plot(epochs, loss, 'b', label='Training loss')\n",
        "  plt.plot(epochs, val_loss, 'r', label='Validation loss')\n",
        "  plt.title(title)\n",
        "  plt.legend()\n",
        "\n",
        "  plt.show()\n",
        "plot_train_history(history, 'Multi-Step Training and validation loss')"
      ],
      "execution_count": 31,
      "outputs": [
        {
          "output_type": "display_data",
          "data": {
            "image/png": "[encoded data removed]",
            "text/plain": [
              "<Figure size 576x432 with 1 Axes>"
            ]
          },
          "metadata": {
            "tags": []
          }
        }
      ]
    },
    {
      "cell_type": "code",
      "metadata": {
        "colab_type": "code",
        "id": "vc5c9-04qQGf",
        "colab": {}
      },
      "source": [
        "def create_time_steps(length):\n",
        "  return list(range(-length, 0))\n",
        "  \n",
        "def multi_step_plot(history, true_future, prediction):\n",
        "  plt.figure(figsize=(12, 6))\n",
        "  num_in = create_time_steps(len(history))\n",
        "  num_out = len(true_future)\n",
        "\n",
        "  plt.plot(num_in, np.array(history[:, 1]), label='History')\n",
        "  plt.plot(np.arange(num_out)/1, np.array(true_future), 'bo',\n",
        "           label='True Future')\n",
        "  if prediction.any():\n",
        "    plt.plot(np.arange(num_out)/1, np.array(prediction), 'ro',\n",
        "             label='Predicted Future')\n",
        "  plt.legend(loc='upper left')\n",
        "  plt.show()"
      ],
      "execution_count": 0,
      "outputs": []
    },
    {
      "cell_type": "code",
      "metadata": {
        "id": "vGfiT2syhCwk",
        "colab_type": "code",
        "colab": {}
      },
      "source": [
        "#latest_10days = x_test[-10:]\n",
        "#latest_10days_ture = y_test[-10:]\n",
        "#latest_10days_predicted = []\n",
        "#for data in latest_10days:\n",
        "#  latest_10days_predicted.append( multi_step_model.predict(np.expand_dims(data,0)))"
      ],
      "execution_count": 0,
      "outputs": []
    },
    {
      "cell_type": "code",
      "metadata": {
        "id": "laBaVxlht5YG",
        "colab_type": "code",
        "colab": {}
      },
      "source": [
        "#latest_10days_predicted"
      ],
      "execution_count": 0,
      "outputs": []
    },
    {
      "cell_type": "code",
      "metadata": {
        "id": "kKdNV5jh6ltH",
        "colab_type": "code",
        "colab": {}
      },
      "source": [
        "def create_time_steps(length):\n",
        "  return list(range(-length, 0))\n",
        "  \n",
        "def multi_step_plot(history, true_future, prediction):\n",
        "  plt.figure(figsize=(12, 6))\n",
        "  num_in = create_time_steps(len(history))\n",
        "  num_out = len(true_future)\n",
        "\n",
        "  plt.plot(num_in, np.array(history[:, 1]), label='History')\n",
        "  plt.plot(np.arange(num_out)/1, np.array(true_future), 'bo',\n",
        "           label='True Future')\n",
        "  if prediction.any():\n",
        "    plt.plot(np.arange(num_out)/1, np.array(prediction), 'ro',\n",
        "             label='Predicted Future')\n",
        "  plt.legend(loc='upper left')\n",
        "  plt.show()"
      ],
      "execution_count": 0,
      "outputs": []
    },
    {
      "cell_type": "code",
      "metadata": {
        "id": "Fl7i0Jgi6o9_",
        "colab_type": "code",
        "colab": {
          "base_uri": "https://localhost:8080/",
          "height": 1000
        },
        "outputId": "62321e3e-4b5c-467d-c341-e7654150edc9"
      },
      "source": [
        "for x, y in test_data.take(3):\n",
        "  print(x.shape)\n",
        "  print(x[0].shape)\n",
        "  print(y.shape)\n",
        "  print(y[0].shape)\n",
        "  multi_step_plot(x[0], y[0], multi_step_model.predict(x)[0])"
      ],
      "execution_count": 36,
      "outputs": [
        {
          "output_type": "stream",
          "text": [
            "(5, 5, 2)\n",
            "(5, 2)\n",
            "(5, 2)\n",
            "(2,)\n"
          ],
          "name": "stdout"
        },
        {
          "output_type": "display_data",
          "data": {
            "image/png": "[encoded data removed]",
            "text/plain": [
              "<Figure size 864x432 with 1 Axes>"
            ]
          },
          "metadata": {
            "tags": []
          }
        },
        {
          "output_type": "stream",
          "text": [
            "(5, 5, 2)\n",
            "(5, 2)\n",
            "(5, 2)\n",
            "(2,)\n"
          ],
          "name": "stdout"
        },
        {
          "output_type": "display_data",
          "data": {
            "image/png": "[encoded data removed]",
            "text/plain": [
              "<Figure size 864x432 with 1 Axes>"
            ]
          },
          "metadata": {
            "tags": []
          }
        },
        {
          "output_type": "stream",
          "text": [
            "(5, 5, 2)\n",
            "(5, 2)\n",
            "(5, 2)\n",
            "(2,)\n"
          ],
          "name": "stdout"
        },
        {
          "output_type": "display_data",
          "data": {
            "image/png": "[encoded data removed]",
            "text/plain": [
              "<Figure size 864x432 with 1 Axes>"
            ]
          },
          "metadata": {
            "tags": []
          }
        }
      ]
    },
    {
      "cell_type": "code",
      "metadata": {
        "id": "hMmexW-ewiPW",
        "colab_type": "code",
        "colab": {
          "base_uri": "https://localhost:8080/",
          "height": 102
        },
        "outputId": "54d29654-3571-4a50-c2af-c3f975c9c801"
      },
      "source": [
        "data = canada_data.values[-5:]\n",
        "data = (data - data_mean) / data_std\n",
        "data"
      ],
      "execution_count": 44,
      "outputs": [
        {
          "output_type": "execute_result",
          "data": {
            "text/plain": [
              "array([[-0.16630925,  0.14439521],\n",
              "       [-0.15857826,  0.21360728],\n",
              "       [-0.10743479,  0.29989895],\n",
              "       [-0.01823107,  0.4159806 ],\n",
              "       [-0.03517978,  0.52640215]])"
            ]
          },
          "metadata": {
            "tags": []
          },
          "execution_count": 44
        }
      ]
    },
    {
      "cell_type": "code",
      "metadata": {
        "id": "hwR4NEo67XsU",
        "colab_type": "code",
        "colab": {}
      },
      "source": [
        "#num = (predict[0][0] * data_std) + data_mean\n",
        "#num[0]"
      ],
      "execution_count": 0,
      "outputs": []
    },
    {
      "cell_type": "code",
      "metadata": {
        "id": "SxcrbxSqioEo",
        "colab_type": "code",
        "outputId": "24559f77-3e3e-4e1a-ab55-a58c961c5d58",
        "colab": {
          "base_uri": "https://localhost:8080/",
          "height": 34
        }
      },
      "source": [
        "predicts = multi_step_model.predict(np.expand_dims(data,0))\n",
        "future_5_days = []\n",
        "for predict in predicts[0]:\n",
        "  future_5_days.append(((predict * data_std) + data_mean)[0])\n",
        "future_5_days"
      ],
      "execution_count": 45,
      "outputs": [
        {
          "output_type": "execute_result",
          "data": {
            "text/plain": [
              "[1513.468194439751, 1489.4128098880115]"
            ]
          },
          "metadata": {
            "tags": []
          },
          "execution_count": 45
        }
      ]
    }
  ]
}